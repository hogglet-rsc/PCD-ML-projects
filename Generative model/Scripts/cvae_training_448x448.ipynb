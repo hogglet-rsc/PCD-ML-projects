{
 "cells": [
  {
   "cell_type": "code",
   "execution_count": 1,
   "metadata": {},
   "outputs": [
    {
     "name": "stderr",
     "output_type": "stream",
     "text": [
      "2024-07-23 19:57:11.224078: I tensorflow/core/util/port.cc:113] oneDNN custom operations are on. You may see slightly different numerical results due to floating-point round-off errors from different computation orders. To turn them off, set the environment variable `TF_ENABLE_ONEDNN_OPTS=0`.\n",
      "2024-07-23 19:57:11.225211: I external/local_tsl/tsl/cuda/cudart_stub.cc:31] Could not find cuda drivers on your machine, GPU will not be used.\n",
      "2024-07-23 19:57:11.241467: E external/local_xla/xla/stream_executor/cuda/cuda_dnn.cc:9261] Unable to register cuDNN factory: Attempting to register factory for plugin cuDNN when one has already been registered\n",
      "2024-07-23 19:57:11.241481: E external/local_xla/xla/stream_executor/cuda/cuda_fft.cc:607] Unable to register cuFFT factory: Attempting to register factory for plugin cuFFT when one has already been registered\n",
      "2024-07-23 19:57:11.241951: E external/local_xla/xla/stream_executor/cuda/cuda_blas.cc:1515] Unable to register cuBLAS factory: Attempting to register factory for plugin cuBLAS when one has already been registered\n",
      "2024-07-23 19:57:11.244787: I external/local_tsl/tsl/cuda/cudart_stub.cc:31] Could not find cuda drivers on your machine, GPU will not be used.\n",
      "2024-07-23 19:57:11.245142: I tensorflow/core/platform/cpu_feature_guard.cc:182] This TensorFlow binary is optimized to use available CPU instructions in performance-critical operations.\n",
      "To enable the following instructions: AVX2 AVX_VNNI FMA, in other operations, rebuild TensorFlow with the appropriate compiler flags.\n",
      "2024-07-23 19:57:11.579036: W tensorflow/compiler/tf2tensorrt/utils/py_utils.cc:38] TF-TRT Warning: Could not find TensorRT\n"
     ]
    }
   ],
   "source": [
    "import numpy as np \n",
    "import pandas as pd\n",
    "import matplotlib.pyplot as plt\n",
    "import tensorflow as tf\n",
    "import re\n",
    "import json\n",
    "import os\n",
    "from datetime import datetime\n",
    "from tensorflow.keras.datasets import mnist\n",
    "from tensorflow import keras \n",
    "from tensorflow.keras.layers import Input, Dense, Lambda\n",
    "from tensorflow.keras.layers import Flatten, Reshape, concatenate\n",
    "from tensorflow.keras.layers import BatchNormalization, Dropout\n",
    "from tensorflow.keras.preprocessing import image_dataset_from_directory\n",
    "from tensorflow.keras.layers import Conv2D, MaxPooling2D, UpSampling2D, Concatenate, Conv2DTranspose"
   ]
  },
  {
   "cell_type": "code",
   "execution_count": 2,
   "metadata": {},
   "outputs": [],
   "source": [
    "# Parameters\n",
    "batch_size = 32\n",
    "num_classes = 10  # normal, disarranged etc\n",
    "hidden_dim = 128\n",
    "input_width = 448\n",
    "input_height = 448\n",
    "\n",
    "epochs = 30"
   ]
  },
  {
   "cell_type": "code",
   "execution_count": 3,
   "metadata": {},
   "outputs": [],
   "source": [
    "# Load preprocessed data\n",
    "data = np.load('../Processed Input Images/preprocessed_data_cvae_train_448x448.npz')\n",
    "x_train, y_train = data['x_train'], data['y_train']\n",
    "x_test, y_test = data['x_test'], data['y_test']\n",
    "\n",
    "# Convert labels to OHC\n",
    "y_train_cat = keras.utils.to_categorical(y_train, num_classes)\n",
    "y_test_cat = keras.utils.to_categorical(y_test, num_classes)\n",
    "\n",
    "# Map numeric labels to text labels\n",
    "data_dir = '../Raw Input Images'\n",
    "class_names = sorted(os.listdir(data_dir))\n",
    "y_train_text = [class_names[int(label)] for label in y_train]\n",
    "y_test_text = [class_names[int(label)] for label in y_test]\n"
   ]
  },
  {
   "cell_type": "code",
   "execution_count": 4,
   "metadata": {},
   "outputs": [],
   "source": [
    "def dropout_and_batchnorm(x):\n",
    "    return Dropout(0.3)(BatchNormalization()(x))\n",
    "\n",
    "def noiser(args):\n",
    "    global mean, log_var\n",
    "    mean, log_var = args\n",
    "    # Get the actual batch size from the input tensor\n",
    "    actual_batch_size = tf.shape(mean)[0]\n",
    "    N = tf.random.normal(shape=(actual_batch_size, hidden_dim), mean=0., stddev=1.0)\n",
    "    return tf.exp(log_var / 2) * N + mean"
   ]
  },
  {
   "cell_type": "code",
   "execution_count": 5,
   "metadata": {},
   "outputs": [
    {
     "name": "stderr",
     "output_type": "stream",
     "text": [
      "2024-07-23 19:57:14.826696: I external/local_xla/xla/stream_executor/cuda/cuda_executor.cc:901] successful NUMA node read from SysFS had negative value (-1), but there must be at least one NUMA node, so returning NUMA node zero. See more at https://github.com/torvalds/linux/blob/v6.0/Documentation/ABI/testing/sysfs-bus-pci#L344-L355\n",
      "2024-07-23 19:57:14.826864: W tensorflow/core/common_runtime/gpu/gpu_device.cc:2256] Cannot dlopen some GPU libraries. Please make sure the missing libraries mentioned above are installed properly if you would like to use GPU. Follow the guide at https://www.tensorflow.org/install/gpu for how to download and setup the required libraries for your platform.\n",
      "Skipping registering GPU devices...\n"
     ]
    }
   ],
   "source": [
    "# Encoder\n",
    "input_image = keras.Input(shape=(input_width, input_height, 1), name='input_image')\n",
    "lb = keras.Input(shape=(num_classes,), name='label_input')\n",
    "\n",
    "# Convolutional layers with increased capacity\n",
    "x = Conv2D(64, (3, 3), activation='relu', padding='same')(input_image)\n",
    "x = Conv2D(64, (3, 3), activation='relu', padding='same')(x)\n",
    "x = MaxPooling2D((2, 2), padding='same')(x)\n",
    "x = Conv2D(128, (3, 3), activation='relu', padding='same')(x)\n",
    "x = Conv2D(128, (3, 3), activation='relu', padding='same')(x)\n",
    "x = MaxPooling2D((2, 2), padding='same')(x)\n",
    "x = Conv2D(256, (3, 3), activation='relu', padding='same')(x)\n",
    "x = Conv2D(256, (3, 3), activation='relu', padding='same')(x)\n",
    "x = MaxPooling2D((2, 2), padding='same')(x)\n",
    "\n",
    "# Flatten and concatenate\n",
    "x = keras.layers.Flatten()(x)\n",
    "x = keras.layers.concatenate([x, lb])\n",
    "\n",
    "# Dense layers with increased capacity\n",
    "x = Dense(1024, activation='relu')(x)\n",
    "x = dropout_and_batchnorm(x)\n",
    "x = Dense(512, activation='relu')(x)\n",
    "x = dropout_and_batchnorm(x)\n",
    "x = Dense(256, activation='relu')(x)\n",
    "x = dropout_and_batchnorm(x)\n",
    "\n",
    "# Mean and log_var\n",
    "mean = keras.layers.Dense(hidden_dim, name='mean')(x)\n",
    "log_var = keras.layers.Dense(hidden_dim, name='log_var')(x)\n",
    "h = keras.layers.Lambda(noiser, output_shape=(hidden_dim,), name='z')([mean, log_var])\n",
    "\n",
    "# Create the encoder model\n",
    "encoder = keras.Model([input_image, lb], h, name='encoder')"
   ]
  },
  {
   "cell_type": "code",
   "execution_count": 6,
   "metadata": {},
   "outputs": [],
   "source": [
    "# Decoder\n",
    "input_dec = Input(shape=(hidden_dim,))\n",
    "lb_dec = Input(shape=(num_classes,))\n",
    "\n",
    "# Dense layers with increased capacity\n",
    "d = Concatenate()([input_dec, lb_dec])\n",
    "d = Dense(256, activation='relu')(d)\n",
    "d = dropout_and_batchnorm(d)\n",
    "d = Dense(512, activation='relu')(d)\n",
    "d = dropout_and_batchnorm(d)\n",
    "d = Dense(1024, activation='relu')(d)\n",
    "d = dropout_and_batchnorm(d)\n",
    "d = Dense(28 * 28 * hidden_dim, activation='relu')(d)\n",
    "d = Reshape((28, 28, hidden_dim))(d)\n",
    "\n",
    "# Transposed convolution layers with increased capacity\n",
    "d = Conv2D(128, (3, 3), activation='relu', padding='same')(d)\n",
    "d = Conv2D(128, (3, 3), activation='relu', padding='same')(d)\n",
    "d = UpSampling2D((2, 2))(d)  # 56x56\n",
    "d = Conv2D(64, (3, 3), activation='relu', padding='same')(d)\n",
    "d = Conv2D(64, (3, 3), activation='relu', padding='same')(d)\n",
    "d = UpSampling2D((2, 2))(d)  # 112x112\n",
    "d = Conv2D(32, (3, 3), activation='relu', padding='same')(d)\n",
    "d = Conv2D(32, (3, 3), activation='relu', padding='same')(d)\n",
    "d = UpSampling2D((2, 2))(d)  # 224x224\n",
    "d = Conv2D(16, (3, 3), activation='relu', padding='same')(d)\n",
    "d = Conv2D(16, (3, 3), activation='relu', padding='same')(d)\n",
    "d = UpSampling2D((2, 2))(d)  # 448x448\n",
    "\n",
    "decoded = Conv2D(1, (3, 3), activation='sigmoid', padding='same')(d)\n",
    "decoder = keras.Model([input_dec, lb_dec], decoded, name=\"decoder\")"
   ]
  },
  {
   "cell_type": "code",
   "execution_count": 7,
   "metadata": {},
   "outputs": [],
   "source": [
    "def vae_loss(x, y):\n",
    "    # Get the actual batch size from the input tensor\n",
    "    actual_batch_size = tf.shape(x)[0]\n",
    "    x = tf.reshape(x, shape=(actual_batch_size, input_width*input_height))\n",
    "    y = tf.reshape(y, shape=(actual_batch_size, input_width*input_height))\n",
    "    \n",
    "    # Compute reconstruction loss\n",
    "    reconstruction_loss = tf.reduce_sum(tf.square(x-y), axis=-1)\n",
    "    \n",
    "    # Compute KL divergence\n",
    "    kl_loss = -0.5 * tf.reduce_sum(1 + log_var - tf.square(mean) - tf.exp(log_var), axis=-1)\n",
    "    \n",
    "    # Return mean loss\n",
    "    return tf.reduce_mean(reconstruction_loss + kl_loss)"
   ]
  },
  {
   "cell_type": "code",
   "execution_count": 8,
   "metadata": {},
   "outputs": [],
   "source": [
    "# CVAE model (only h is passed to the decoder)\n",
    "cvae = keras.Model(\n",
    "    inputs=[input_image, lb, lb_dec],\n",
    "    outputs=decoder([h, lb_dec]),\n",
    "    name=\"cvae\"\n",
    ")\n",
    "\n",
    "cvae.compile(optimizer=\"adam\", loss=vae_loss)"
   ]
  },
  {
   "cell_type": "code",
   "execution_count": 9,
   "metadata": {},
   "outputs": [
    {
     "name": "stdout",
     "output_type": "stream",
     "text": [
      "Epoch 1/30\n",
      "131/131 [==============================] - 1355s 10s/step - loss: 4216.7544 - val_loss: 13676.7930\n",
      "Epoch 2/30\n",
      "131/131 [==============================] - 1368s 10s/step - loss: 3365.0344 - val_loss: 5584.7271\n",
      "Epoch 3/30\n",
      "131/131 [==============================] - 1371s 10s/step - loss: 3251.1675 - val_loss: 3363632.0000\n",
      "Epoch 4/30\n",
      "131/131 [==============================] - 1356s 10s/step - loss: 3210.8293 - val_loss: 36237.5312\n",
      "Epoch 5/30\n",
      "131/131 [==============================] - 1373s 10s/step - loss: 3129.1833 - val_loss: 17984.4668\n",
      "Epoch 6/30\n",
      "131/131 [==============================] - 1358s 10s/step - loss: 3015.1904 - val_loss: 5720.6821\n",
      "Epoch 7/30\n",
      "131/131 [==============================] - ETA: 0s - loss: 3048.2754 "
     ]
    }
   ],
   "source": [
    "history = cvae.fit(\n",
    "    [x_train, y_train_cat, y_train_cat], x_train,\n",
    "    epochs=epochs,\n",
    "    batch_size=batch_size,\n",
    "    validation_data=([x_test, y_test_cat, y_test_cat], x_test),\n",
    "    shuffle=True\n",
    ")"
   ]
  },
  {
   "cell_type": "markdown",
   "metadata": {},
   "source": [
    "Plot total loss over training"
   ]
  },
  {
   "cell_type": "code",
   "execution_count": null,
   "metadata": {},
   "outputs": [
    {
     "data": {
      "image/png": "[encoded data removed]",
      "text/plain": [
       "<Figure size 1000x600 with 1 Axes>"
      ]
     },
     "metadata": {},
     "output_type": "display_data"
    },
    {
     "data": {
      "text/plain": [
       "<Figure size 640x480 with 0 Axes>"
      ]
     },
     "metadata": {},
     "output_type": "display_data"
    }
   ],
   "source": [
    "def plot_losses(history):\n",
    "    train_loss = history.history['loss']\n",
    "    val_loss = history.history['val_loss']\n",
    "    epochs = range(1, len(train_loss) + 1)\n",
    "\n",
    "    plt.figure(figsize=(10, 6))\n",
    "    plt.plot(epochs, train_loss, 'bo-', label='Training loss')\n",
    "    plt.plot(epochs, val_loss, 'ro-', label='Validation loss')\n",
    "    plt.title('Model Total Loss')\n",
    "    plt.xlabel('Epochs')\n",
    "    plt.ylabel('Loss')\n",
    "    plt.legend()\n",
    "    plt.grid(True)\n",
    "    plt.show()\n",
    "    plt.savefig('../Current Models & Tensors/loss_plot.png')\n",
    "\n",
    "# Assuming 'history' is the object returned by model.fit()\n",
    "plot_losses(history)"
   ]
  },
  {
   "cell_type": "markdown",
   "metadata": {},
   "source": [
    "Save models for inference"
   ]
  },
  {
   "cell_type": "code",
   "execution_count": null,
   "metadata": {},
   "outputs": [
    {
     "name": "stdout",
     "output_type": "stream",
     "text": [
      "Models and parameters saved successfully.\n"
     ]
    }
   ],
   "source": [
    "# Save encoder and decoder\n",
    "encoder.save('../Current Models & Tensors/Models/cvae_encoder_model.keras')\n",
    "decoder.save('../Current Models & Tensors/Models/cvae_decoder_model.keras')\n",
    "\n",
    "# Create a dictionary with the parameters\n",
    "params = {\n",
    "    'Number of epochs': epochs,\n",
    "    'Input width': input_width,\n",
    "    'Input height': input_height,\n",
    "    'Latent space dimensionality': hidden_dim,\n",
    "    'Batch size': batch_size\n",
    "}\n",
    "\n",
    "# Save parameters to a JSON file\n",
    "params_file_path = '../Current Models & Tensors/Models/cvae_parameters.json'\n",
    "with open(params_file_path, 'w') as f:\n",
    "    json.dump(params, f, indent=4)\n",
    "\n",
    "print(f\"Models and parameters saved successfully.\")"
   ]
  },
  {
   "cell_type": "markdown",
   "metadata": {},
   "source": [
    "Save latent space tensors for inference"
   ]
  },
  {
   "cell_type": "code",
   "execution_count": null,
   "metadata": {},
   "outputs": [
    {
     "name": "stdout",
     "output_type": "stream",
     "text": [
      "1/3 [=========>....................] - ETA: 0s"
     ]
    },
    {
     "name": "stdout",
     "output_type": "stream",
     "text": [
      "3/3 [==============================] - 0s 44ms/step\n",
      "6/6 [==============================] - 0s 43ms/step\n",
      "8/8 [==============================] - 0s 45ms/step\n",
      "7/7 [==============================] - 0s 46ms/step\n",
      "4/4 [==============================] - 0s 42ms/step\n",
      "6/6 [==============================] - 0s 44ms/step\n",
      "54/54 [==============================] - 2s 46ms/step\n",
      "21/21 [==============================] - 1s 45ms/step\n",
      "18/18 [==============================] - 1s 45ms/step\n",
      "6/6 [==============================] - 0s 44ms/step\n"
     ]
    }
   ],
   "source": [
    "mean_output = encoder.get_layer('mean').output\n",
    "log_var_output = encoder.get_layer('log_var').output\n",
    "\n",
    "encoder_latent_tensors = keras.Model(encoder.inputs, [mean_output, log_var_output], name=\"encoder_latent_tensors\")\n",
    "\n",
    "def save_latent_space_tensors(x_train, y_train, y_train_text, class_names, save_dir):\n",
    "    os.makedirs(save_dir, exist_ok=True)\n",
    "\n",
    "    # Create a mapping from class names to one-hot encoded labels\n",
    "    label_to_onehot = {name: tf.keras.utils.to_categorical(i, num_classes=len(class_names)) \n",
    "                       for i, name in enumerate(class_names)}\n",
    "\n",
    "    for class_name in class_names:\n",
    "        # Filter data for this class\n",
    "        class_mask = np.array(y_train_text) == class_name\n",
    "        x_class = x_train[class_mask]\n",
    "        \n",
    "        # Create one-hot encoded labels for this class\n",
    "        y_class_onehot = np.repeat(label_to_onehot[class_name][np.newaxis, :], x_class.shape[0], axis=0)\n",
    "\n",
    "        # Generate latent tensors\n",
    "        z_mean, z_log_var = encoder_latent_tensors.predict([x_class, y_class_onehot], batch_size=32)\n",
    "\n",
    "        # Save tensors using class name\n",
    "        np.save(os.path.join(save_dir, f\"z_mean_{class_name}.npy\"), z_mean)\n",
    "        np.save(os.path.join(save_dir, f\"z_log_var_{class_name}.npy\"), z_log_var)\n",
    "\n",
    "# Usage\n",
    "save_dir = \"../Current Models & Tensors/Latent Space Tensors\"\n",
    "save_latent_space_tensors(x_train, y_train, y_train_text, class_names, save_dir)"
   ]
  }
 ],
 "metadata": {
  "kernelspec": {
   "display_name": "venv",
   "language": "python",
   "name": "python3"
  },
  "language_info": {
   "codemirror_mode": {
    "name": "ipython",
    "version": 3
   },
   "file_extension": ".py",
   "mimetype": "text/x-python",
   "name": "python",
   "nbconvert_exporter": "python",
   "pygments_lexer": "ipython3",
   "version": "3.10.12"
  }
 },
 "nbformat": 4,
 "nbformat_minor": 2
}
