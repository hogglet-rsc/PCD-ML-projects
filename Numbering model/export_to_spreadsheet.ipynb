{
 "cells": [
  {
   "cell_type": "code",
   "execution_count": 1,
   "metadata": {},
   "outputs": [
    {
     "name": "stdout",
     "output_type": "stream",
     "text": [
      "Excel file 'mtd_analysis.xlsx' has been generated.\n"
     ]
    }
   ],
   "source": [
    "import pandas as pd\n",
    "import numpy as np\n",
    "import xlsxwriter\n",
    "\n",
    "\n",
    "# Read the CSV file\n",
    "df = pd.read_csv('mtd_labels.csv')\n",
    "\n",
    "# Use context manager for ExcelWriter\n",
    "with pd.ExcelWriter('mtd_analysis.xlsx', engine='xlsxwriter') as writer:\n",
    "    # Sheet 1: Original Data\n",
    "    df.to_excel(writer, sheet_name='Original Data', index=False)\n",
    "\n",
    "    # Sheet 2: Per Image Summary\n",
    "    image_summary = df.set_index('Image_name').iloc[:, :].apply(lambda x: x.value_counts(normalize=True) * 100).round(2)\n",
    "    image_summary.to_excel(writer, sheet_name='Per Image Summary')\n",
    "\n",
    "    # Sheet 3: Per MTD Summary\n",
    "    mtd_summary = df.melt(id_vars=['Image_name'], var_name='MTD', value_name='Label')\n",
    "    mtd_summary = mtd_summary.groupby('MTD')['Label'].value_counts(normalize=True).unstack() * 100\n",
    "    mtd_summary = mtd_summary.round(2)\n",
    "    mtd_summary.to_excel(writer, sheet_name='Per MTD Summary')\n",
    "\n",
    "    # Sheet 4: Overall Summary\n",
    "    overall_summary = df.melt(id_vars=['Image_name'], value_name='Label')['Label'].value_counts(normalize=True) * 100\n",
    "    overall_summary = pd.DataFrame(overall_summary).T.round(2)\n",
    "    overall_summary.index = ['Overall %']\n",
    "    overall_summary.to_excel(writer, sheet_name='Overall Summary')\n",
    "\n",
    "print(\"Excel file 'mtd_analysis.xlsx' has been generated.\")"
   ]
  }
 ],
 "metadata": {
  "kernelspec": {
   "display_name": "venv",
   "language": "python",
   "name": "python3"
  },
  "language_info": {
   "codemirror_mode": {
    "name": "ipython",
    "version": 3
   },
   "file_extension": ".py",
   "mimetype": "text/x-python",
   "name": "python",
   "nbconvert_exporter": "python",
   "pygments_lexer": "ipython3",
   "version": "3.10.12"
  }
 },
 "nbformat": 4,
 "nbformat_minor": 2
}
