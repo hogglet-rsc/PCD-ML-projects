{
 "cells": [
  {
   "cell_type": "code",
   "execution_count": 1,
   "metadata": {},
   "outputs": [],
   "source": [
    "import sys\n",
    "import os\n",
    "from PyQt5.QtWidgets import QApplication, QMainWindow, QLabel, QPushButton, QTextEdit, QVBoxLayout, QHBoxLayout, QWidget\n",
    "from PyQt5.QtCore import Qt\n",
    "from PyQt5.QtGui import QPixmap"
   ]
  },
  {
   "cell_type": "code",
   "execution_count": 2,
   "metadata": {},
   "outputs": [
    {
     "ename": "",
     "evalue": "",
     "output_type": "error",
     "traceback": [
      "\u001b[1;31mThe Kernel crashed while executing code in the current cell or a previous cell. \n",
      "\u001b[1;31mPlease review the code in the cell(s) to identify a possible cause of the failure. \n",
      "\u001b[1;31mClick <a href='https://aka.ms/vscodeJupyterKernelCrash'>here</a> for more info. \n",
      "\u001b[1;31mView Jupyter <a href='command:jupyter.viewOutput'>log</a> for further details."
     ]
    }
   ],
   "source": [
    "\n",
    "class ImageProcessorGUI(QMainWindow):\n",
    "    def __init__(self):\n",
    "        super().__init__()\n",
    "        self.initUI()\n",
    "\n",
    "    def initUI(self):\n",
    "        self.setWindowTitle('Image Processor')\n",
    "        self.setGeometry(100, 100, 800, 600)\n",
    "\n",
    "        # Create widgets\n",
    "        self.rawImageLabel = QLabel('Drop Raw Images Here')\n",
    "        self.rawImageLabel.setAlignment(Qt.AlignCenter)\n",
    "        self.rawImageLabel.setStyleSheet('border: 2px dashed #aaa')\n",
    "        self.rawImageLabel.setAcceptDrops(True)\n",
    "\n",
    "        self.processedImageLabel = QLabel('Processed Images')\n",
    "        self.processedImageLabel.setAlignment(Qt.AlignCenter)\n",
    "        self.processedImageLabel.setStyleSheet('border: 2px dashed #aaa')\n",
    "\n",
    "        self.processButton = QPushButton('Process')\n",
    "        self.processButton.clicked.connect(self.processImages)\n",
    "\n",
    "        self.logTextEdit = QTextEdit()\n",
    "        self.logTextEdit.setReadOnly(True)\n",
    "\n",
    "        # Layout\n",
    "        mainLayout = QVBoxLayout()\n",
    "        imageLayout = QHBoxLayout()\n",
    "        imageLayout.addWidget(self.rawImageLabel)\n",
    "        imageLayout.addWidget(self.processedImageLabel)\n",
    "        mainLayout.addLayout(imageLayout)\n",
    "        mainLayout.addWidget(self.processButton)\n",
    "        mainLayout.addWidget(self.logTextEdit)\n",
    "\n",
    "        centralWidget = QWidget()\n",
    "        centralWidget.setLayout(mainLayout)\n",
    "        self.setCentralWidget(centralWidget)\n",
    "\n",
    "    def dragEnterEvent(self, event):\n",
    "        if event.mimeData().hasUrls():\n",
    "            event.accept()\n",
    "        else:\n",
    "            event.ignore()\n",
    "\n",
    "    def dropEvent(self, event):\n",
    "        files = [u.toLocalFile() for u in event.mimeData().urls()]\n",
    "        for f in files:\n",
    "            self.logTextEdit.append(f'Dropped {os.path.basename(f)}')\n",
    "            # Here you would move the file to your 'Raw Images' folder\n",
    "            # os.rename(f, os.path.join('path/to/Raw Images', os.path.basename(f)))\n",
    "\n",
    "    def processImages(self):\n",
    "        self.logTextEdit.append('Processing images...')\n",
    "        # Here you would call your image processing pipeline\n",
    "        # After processing, update the processedImageLabel with results\n",
    "        self.logTextEdit.append('Processing complete')\n",
    "\n",
    "if __name__ == '__main__':\n",
    "    app = QApplication(sys.argv)\n",
    "    ex = ImageProcessorGUI()\n",
    "    ex.show()\n",
    "    sys.exit(app.exec_())"
   ]
  }
 ],
 "metadata": {
  "kernelspec": {
   "display_name": "venv",
   "language": "python",
   "name": "python3"
  },
  "language_info": {
   "codemirror_mode": {
    "name": "ipython",
    "version": 3
   },
   "file_extension": ".py",
   "mimetype": "text/x-python",
   "name": "python",
   "nbconvert_exporter": "python",
   "pygments_lexer": "ipython3",
   "version": "3.10.12"
  }
 },
 "nbformat": 4,
 "nbformat_minor": 2
}
